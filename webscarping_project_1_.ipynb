{
  "nbformat": 4,
  "nbformat_minor": 0,
  "metadata": {
    "colab": {
      "provenance": [],
      "authorship_tag": "ABX9TyOvUEcP6oLzO7PEQY/1m9YD",
      "include_colab_link": true
    },
    "kernelspec": {
      "name": "python3",
      "display_name": "Python 3"
    },
    "language_info": {
      "name": "python"
    }
  },
  "cells": [
    {
      "cell_type": "markdown",
      "metadata": {
        "id": "view-in-github",
        "colab_type": "text"
      },
      "source": [
        "<a href=\"https://colab.research.google.com/github/Aamaniharika/new-project/blob/main/webscarping_project_1_.ipynb\" target=\"_parent\"><img src=\"https://colab.research.google.com/assets/colab-badge.svg\" alt=\"Open In Colab\"/></a>"
      ]
    },
    {
      "cell_type": "markdown",
      "source": [
        " **from amazon get requried details using web scraping** "
      ],
      "metadata": {
        "id": "991XefBTzcrf"
      }
    },
    {
      "cell_type": "code",
      "execution_count": 55,
      "metadata": {
        "id": "6uMj38J0zSSB"
      },
      "outputs": [],
      "source": [
        "import requests,bs4,lxml\n",
        "import pandas as pd"
      ]
    },
    {
      "cell_type": "code",
      "source": [
        "url='https://www.amazon.in/s?k=phones&crid=88QLM7DXUPPF&sprefix=phone%2Caps%2C427&ref=nb_sb_noss_1'"
      ],
      "metadata": {
        "id": "740SJjqJ00L0"
      },
      "execution_count": 56,
      "outputs": []
    },
    {
      "cell_type": "code",
      "source": [
        "Headers =({'User-Agent':'Mozilla/5.0 (Windows NT 10.0; Win64; x64; rv:53.0) Gecko/20100101 Firefox/53.0'})"
      ],
      "metadata": {
        "id": "RO4iEgtO6MA1"
      },
      "execution_count": 57,
      "outputs": []
    },
    {
      "cell_type": "code",
      "source": [
        "req=requests.get(url,headers=Headers)"
      ],
      "metadata": {
        "id": "ELvnQQPACtIR"
      },
      "execution_count": 58,
      "outputs": []
    },
    {
      "cell_type": "code",
      "source": [
        "req"
      ],
      "metadata": {
        "colab": {
          "base_uri": "https://localhost:8080/"
        },
        "id": "uQr7MUaJDx5I",
        "outputId": "8cc69c6e-a75c-471e-f224-52b6eb04c4cf"
      },
      "execution_count": 59,
      "outputs": [
        {
          "output_type": "execute_result",
          "data": {
            "text/plain": [
              "<Response [200]>"
            ]
          },
          "metadata": {},
          "execution_count": 59
        }
      ]
    },
    {
      "cell_type": "code",
      "source": [
        "soup=bs4.BeautifulSoup(req.content,'lxml')"
      ],
      "metadata": {
        "id": "-xifFApe1fw4"
      },
      "execution_count": 62,
      "outputs": []
    },
    {
      "cell_type": "code",
      "source": [
        "links=soup.find_all(\"a\",attrs={'class':'a-link-normal s-underline-text s-underline-link-text s-link-style a-text-normal'})"
      ],
      "metadata": {
        "id": "Zh4TEpf0Gpc9"
      },
      "execution_count": 64,
      "outputs": []
    },
    {
      "cell_type": "code",
      "source": [
        "links"
      ],
      "metadata": {
        "id": "_lYDH2o22nka",
        "colab": {
          "base_uri": "https://localhost:8080/"
        },
        "outputId": "39151225-9678-4bfc-96f0-7d620c786dfb"
      },
      "execution_count": 65,
      "outputs": [
        {
          "output_type": "execute_result",
          "data": {
            "text/plain": [
              "[<a class=\"a-link-normal s-underline-text s-underline-link-text s-link-style a-text-normal\" href=\"/Redmi-9A-Sport-Octa-core-Processor/dp/B09GFLXVH9/ref=sr_1_1?crid=88QLM7DXUPPF&amp;keywords=phones&amp;qid=1675007198&amp;sprefix=phone%2Caps%2C427&amp;sr=8-1\" target=\"_blank\"><span class=\"a-size-medium a-color-base a-text-normal\">Redmi 9A Sport (Coral Green, 2GB RAM, 32GB Storage) | 2GHz Octa-core Helio G25 Processor | 5000 mAh Battery</span> </a>,\n",
              " <a class=\"a-link-normal s-underline-text s-underline-link-text s-link-style a-text-normal\" href=\"/realme-narzo-Carbon-Black-Storage/dp/B09FKB3446/ref=sr_1_2?crid=88QLM7DXUPPF&amp;keywords=phones&amp;qid=1675007198&amp;sprefix=phone%2Caps%2C427&amp;sr=8-2\" target=\"_blank\"><span class=\"a-size-medium a-color-base a-text-normal\">realme narzo 50i (Carbon Black, 4GB RAM+64GB Storage) Octa Core Processor | 6.5\" inch Large Display</span> </a>,\n",
              " <a class=\"a-link-normal s-underline-text s-underline-link-text s-link-style a-text-normal\" href=\"/Oppo-Mystery-Storage-Additional-Exchange/dp/B08444S68L/ref=sr_1_3?crid=88QLM7DXUPPF&amp;keywords=phones&amp;qid=1675007198&amp;sprefix=phone%2Caps%2C427&amp;sr=8-3\" target=\"_blank\"><span class=\"a-size-medium a-color-base a-text-normal\">OPPO A31 (Mystery Black, 6GB RAM, 128GB Storage) with No Cost EMI/Additional Exchange Offers</span> </a>,\n",
              " <a class=\"a-link-normal s-underline-text s-underline-link-text s-link-style a-text-normal\" href=\"/iQOO-Storage-Snapdragon-Processor-FlashCharge/dp/B07WHPVM7N/ref=sxin_15?asc_contentid=amzn1.osa.f23449af-5b9d-45a6-a3b0-79213f46f7d8.A21TJRUUN4KGV.en_IN&amp;asc_contenttype=article&amp;ascsubtag=amzn1.osa.f23449af-5b9d-45a6-a3b0-79213f46f7d8.A21TJRUUN4KGV.en_IN&amp;content-id=amzn1.sym.feb2b32b-0085-4665-973c-36b431684408%3Aamzn1.sym.feb2b32b-0085-4665-973c-36b431684408&amp;creativeASIN=B07WHPVM7N&amp;crid=88QLM7DXUPPF&amp;cv_ct_cx=phones&amp;cv_ct_id=amzn1.osa.f23449af-5b9d-45a6-a3b0-79213f46f7d8.A21TJRUUN4KGV.en_IN&amp;cv_ct_pg=search&amp;cv_ct_we=asin&amp;cv_ct_wn=osp-single-source-pecos-desktop&amp;keywords=phones&amp;linkCode=oas&amp;pd_rd_i=B07WHPVM7N&amp;pd_rd_r=4dc1253e-3c44-4e6e-9f94-f94ec3f9dfeb&amp;pd_rd_w=lfHeH&amp;pd_rd_wg=NfEmC&amp;pf_rd_p=feb2b32b-0085-4665-973c-36b431684408&amp;pf_rd_r=PSGT90DA3AXA4FAQFWZC&amp;qid=1675007198&amp;sprefix=phone%2Caps%2C427&amp;sr=1-1-c84eb971-91f2-4a4d-acce-811265c24254&amp;tag=91articles-21\" target=\"_blank\"><span class=\"a-size-base-plus a-color-base a-text-normal\">iQOO 9 Pro 5G (Dark Cruise, 12GB RAM, 256GB Storage) | Snapdragon 8 Gen 1 Mobile Processor | 120W FlashCharge</span> </a>,\n",
              " <a class=\"a-link-normal s-underline-text s-underline-link-text s-link-style a-text-normal\" href=\"/Samsung-Graygreen-Storage-Classic-Bluetooth/dp/B0B9G5QKFY/ref=sxin_15?asc_contentid=amzn1.osa.f23449af-5b9d-45a6-a3b0-79213f46f7d8.A21TJRUUN4KGV.en_IN&amp;asc_contenttype=article&amp;ascsubtag=amzn1.osa.f23449af-5b9d-45a6-a3b0-79213f46f7d8.A21TJRUUN4KGV.en_IN&amp;content-id=amzn1.sym.feb2b32b-0085-4665-973c-36b431684408%3Aamzn1.sym.feb2b32b-0085-4665-973c-36b431684408&amp;creativeASIN=B0B9G5QKFY&amp;crid=88QLM7DXUPPF&amp;cv_ct_cx=phones&amp;cv_ct_id=amzn1.osa.f23449af-5b9d-45a6-a3b0-79213f46f7d8.A21TJRUUN4KGV.en_IN&amp;cv_ct_pg=search&amp;cv_ct_we=asin&amp;cv_ct_wn=osp-single-source-pecos-desktop&amp;keywords=phones&amp;linkCode=oas&amp;pd_rd_i=B0B9G5QKFY&amp;pd_rd_r=4dc1253e-3c44-4e6e-9f94-f94ec3f9dfeb&amp;pd_rd_w=lfHeH&amp;pd_rd_wg=NfEmC&amp;pf_rd_p=feb2b32b-0085-4665-973c-36b431684408&amp;pf_rd_r=PSGT90DA3AXA4FAQFWZC&amp;qid=1675007198&amp;sprefix=phone%2Caps%2C427&amp;sr=1-2-c84eb971-91f2-4a4d-acce-811265c24254&amp;tag=91articles-21\" target=\"_blank\"><span class=\"a-size-base-plus a-color-base a-text-normal\">Samsung Galaxy Z Fold4 5G (Graygreen, 12GB RAM, 256GB Storage) + Galaxy Watch4 Classic Bluetooth (46mm, Black)</span> </a>,\n",
              " <a class=\"a-link-normal s-underline-text s-underline-link-text s-link-style a-text-normal\" href=\"/OnePlus-Moonstone-Black-256GB-Storage/dp/B0B5V5NRMV/ref=sxin_15?asc_contentid=amzn1.osa.f23449af-5b9d-45a6-a3b0-79213f46f7d8.A21TJRUUN4KGV.en_IN&amp;asc_contenttype=article&amp;ascsubtag=amzn1.osa.f23449af-5b9d-45a6-a3b0-79213f46f7d8.A21TJRUUN4KGV.en_IN&amp;content-id=amzn1.sym.feb2b32b-0085-4665-973c-36b431684408%3Aamzn1.sym.feb2b32b-0085-4665-973c-36b431684408&amp;creativeASIN=B0B5V5NRMV&amp;crid=88QLM7DXUPPF&amp;cv_ct_cx=phones&amp;cv_ct_id=amzn1.osa.f23449af-5b9d-45a6-a3b0-79213f46f7d8.A21TJRUUN4KGV.en_IN&amp;cv_ct_pg=search&amp;cv_ct_we=asin&amp;cv_ct_wn=osp-single-source-pecos-desktop&amp;keywords=phones&amp;linkCode=oas&amp;pd_rd_i=B0B5V5NRMV&amp;pd_rd_r=4dc1253e-3c44-4e6e-9f94-f94ec3f9dfeb&amp;pd_rd_w=lfHeH&amp;pd_rd_wg=NfEmC&amp;pf_rd_p=feb2b32b-0085-4665-973c-36b431684408&amp;pf_rd_r=PSGT90DA3AXA4FAQFWZC&amp;qid=1675007198&amp;sprefix=phone%2Caps%2C427&amp;sr=1-3-c84eb971-91f2-4a4d-acce-811265c24254&amp;tag=91articles-21\" target=\"_blank\"><span class=\"a-size-base-plus a-color-base a-text-normal\">OnePlus 10T 5G (Moonstone Black, 16GB RAM, 256GB Storage)</span> </a>,\n",
              " <a class=\"a-link-normal s-underline-text s-underline-link-text s-link-style a-text-normal\" href=\"/Nothing-Phone-Black-128-RAM/dp/B0BKZVF7VV/ref=sr_1_4?crid=88QLM7DXUPPF&amp;keywords=phones&amp;qid=1675007198&amp;sprefix=phone%2Caps%2C427&amp;sr=8-4\" target=\"_blank\"><span class=\"a-size-medium a-color-base a-text-normal\">Nothing Phone (1) 5G (Black, 128 GB) (8 GB RAM)</span> </a>,\n",
              " <a class=\"a-link-normal s-underline-text s-underline-link-text s-link-style a-text-normal\" href=\"/OPPO-Fluid-Black-128GB-Storage/dp/B08VB2CMR3/ref=sr_1_5?crid=88QLM7DXUPPF&amp;keywords=phones&amp;qid=1675007198&amp;sprefix=phone%2Caps%2C427&amp;sr=8-5\" target=\"_blank\"><span class=\"a-size-medium a-color-base a-text-normal\">OPPO A74 5G (Fluid Black, 6GB RAM, 128GB Storage) with No Cost EMI/Additional Exchange Offers</span> </a>,\n",
              " <a class=\"a-link-normal s-underline-text s-underline-link-text s-link-style a-text-normal\" href=\"/Redmi-9A-3GB-32GB-Storage/dp/B086973W9M/ref=sr_1_6?crid=88QLM7DXUPPF&amp;keywords=phones&amp;qid=1675007198&amp;sprefix=phone%2Caps%2C427&amp;sr=8-6\" target=\"_blank\"><span class=\"a-size-medium a-color-base a-text-normal\">Redmi 9A (Sea Blue 3GB RAM 32GB Storage)| 2GHz Octa-core Helio G25 Processor | 5000 mAh Battery</span> </a>,\n",
              " <a class=\"a-link-normal s-underline-text s-underline-link-text s-link-style a-text-normal\" href=\"/Samsung-Galaxy-Storage-6000mAh-Battery/dp/B0B4F2TTTS/ref=sr_1_7?crid=88QLM7DXUPPF&amp;keywords=phones&amp;qid=1675007198&amp;sprefix=phone%2Caps%2C427&amp;sr=8-7\" target=\"_blank\"><span class=\"a-size-medium a-color-base a-text-normal\">Samsung Galaxy M13 (Aqua Green, 4GB, 64GB Storage) | 6000mAh Battery | Upto 8GB RAM with RAM Plus</span> </a>,\n",
              " <a class=\"a-link-normal s-underline-text s-underline-link-text s-link-style a-text-normal\" href=\"/Redmi-Note-11T-5G-Dimensity/dp/B09LJ12YNK/ref=sr_1_8?crid=88QLM7DXUPPF&amp;keywords=phones&amp;qid=1675007198&amp;sprefix=phone%2Caps%2C427&amp;sr=8-8\" target=\"_blank\"><span class=\"a-size-medium a-color-base a-text-normal\">Redmi Note 11T 5G (Matte Black, 8GB RAM, 128GB ROM)| Dimensity 810 5G | 33W Pro Fast Charging | Charger Included | Additional Exchange Offers| Get 2 Months of YouTube Premium Free!</span> </a>,\n",
              " <a class=\"a-link-normal s-underline-text s-underline-link-text s-link-style a-text-normal\" href=\"/realme-narzo-Carbon-Black-Storage/dp/B09FKGDJNC/ref=sr_1_9?crid=88QLM7DXUPPF&amp;keywords=phones&amp;qid=1675007198&amp;sprefix=phone%2Caps%2C427&amp;sr=8-9\" target=\"_blank\"><span class=\"a-size-medium a-color-base a-text-normal\">realme narzo 50i (Carbon Black, 2GB RAM+32GB Storage) Octa Core Processor | 6.5\" inch Large Display</span> </a>,\n",
              " <a class=\"a-link-normal s-underline-text s-underline-link-text s-link-style a-text-normal\" href=\"/Nokia-Android-Smartphone-Battery-Storage/dp/B09Y99VSSJ/ref=sr_1_10?crid=88QLM7DXUPPF&amp;keywords=phones&amp;qid=1675007198&amp;sprefix=phone%2Caps%2C427&amp;sr=8-10\" target=\"_blank\"><span class=\"a-size-medium a-color-base a-text-normal\">Nokia G21 Android Smartphone, Dual SIM, 3-Day Battery Life, 6GB RAM + 128GB Storage, 50MP Triple AI Camera | Nordic Blue</span> </a>,\n",
              " <a class=\"a-link-normal s-underline-text s-underline-link-text s-link-style a-text-normal\" href=\"/Redmi-9A-Sport-Octa-core-Processor/dp/B09GFLXVH9/ref=sxin_24_aspa_sqa?content-id=amzn1.sym.d6fc18b9-350a-43ef-bbf0-8a0340d151dd%3Aamzn1.sym.d6fc18b9-350a-43ef-bbf0-8a0340d151dd&amp;crid=88QLM7DXUPPF&amp;cv_ct_cx=phones&amp;keywords=phones&amp;pd_rd_i=B09GFLXVH9&amp;pd_rd_r=4dc1253e-3c44-4e6e-9f94-f94ec3f9dfeb&amp;pd_rd_w=XtVMb&amp;pd_rd_wg=NfEmC&amp;pf_rd_p=d6fc18b9-350a-43ef-bbf0-8a0340d151dd&amp;pf_rd_r=PSGT90DA3AXA4FAQFWZC&amp;qid=1675007198&amp;sprefix=phone%2Caps%2C427&amp;sr=1-1-9e85f757-0438-470e-8160-8465beaa22d5\" target=\"_blank\"><span class=\"a-size-base-plus a-color-base a-text-normal\">Redmi 9A Sport (Coral Green, 2GB RAM, 32GB Storage) | 2GHz Octa-core Helio G25 Processor | 5000 mAh Battery</span> </a>,\n",
              " <a class=\"a-link-normal s-underline-text s-underline-link-text s-link-style a-text-normal\" href=\"/Nokia-105-Single-Wireless-Charcoal/dp/B09V2Q4QVQ/ref=sxin_24_aspa_sqa?content-id=amzn1.sym.d6fc18b9-350a-43ef-bbf0-8a0340d151dd%3Aamzn1.sym.d6fc18b9-350a-43ef-bbf0-8a0340d151dd&amp;crid=88QLM7DXUPPF&amp;cv_ct_cx=phones&amp;keywords=phones&amp;pd_rd_i=B09V2Q4QVQ&amp;pd_rd_r=4dc1253e-3c44-4e6e-9f94-f94ec3f9dfeb&amp;pd_rd_w=XtVMb&amp;pd_rd_wg=NfEmC&amp;pf_rd_p=d6fc18b9-350a-43ef-bbf0-8a0340d151dd&amp;pf_rd_r=PSGT90DA3AXA4FAQFWZC&amp;qid=1675007198&amp;sprefix=phone%2Caps%2C427&amp;sr=1-3-9e85f757-0438-470e-8160-8465beaa22d5\" target=\"_blank\"><span class=\"a-size-base-plus a-color-base a-text-normal\">Nokia 105 Single SIM, Keypad Mobile Phone with Wireless FM Radio | Charcoal</span> </a>,\n",
              " <a class=\"a-link-normal s-underline-text s-underline-link-text s-link-style a-text-normal\" href=\"/Redmi-Storage-Segment-5000mAh-Battery/dp/B0BBN56J5H/ref=sxin_24_aspa_sqa?content-id=amzn1.sym.d6fc18b9-350a-43ef-bbf0-8a0340d151dd%3Aamzn1.sym.d6fc18b9-350a-43ef-bbf0-8a0340d151dd&amp;crid=88QLM7DXUPPF&amp;cv_ct_cx=phones&amp;keywords=phones&amp;pd_rd_i=B0BBN56J5H&amp;pd_rd_r=4dc1253e-3c44-4e6e-9f94-f94ec3f9dfeb&amp;pd_rd_w=XtVMb&amp;pd_rd_wg=NfEmC&amp;pf_rd_p=d6fc18b9-350a-43ef-bbf0-8a0340d151dd&amp;pf_rd_r=PSGT90DA3AXA4FAQFWZC&amp;qid=1675007198&amp;sprefix=phone%2Caps%2C427&amp;sr=1-5-9e85f757-0438-470e-8160-8465beaa22d5\" target=\"_blank\"><span class=\"a-size-base-plus a-color-base a-text-normal\">Redmi A1 (Black, 2GB RAM, 32GB Storage) | Segment Best AI Dual Cam | 5000mAh Battery | Leather Texture Design | Android 12</span> </a>,\n",
              " <a class=\"a-link-normal s-underline-text s-underline-link-text s-link-style a-text-normal\" href=\"/Nokia-105-Keypad-Wireless-Charcoal/dp/B09V2NRM1R/ref=sxin_24_aspa_sqa?content-id=amzn1.sym.d6fc18b9-350a-43ef-bbf0-8a0340d151dd%3Aamzn1.sym.d6fc18b9-350a-43ef-bbf0-8a0340d151dd&amp;crid=88QLM7DXUPPF&amp;cv_ct_cx=phones&amp;keywords=phones&amp;pd_rd_i=B09V2NRM1R&amp;pd_rd_r=4dc1253e-3c44-4e6e-9f94-f94ec3f9dfeb&amp;pd_rd_w=XtVMb&amp;pd_rd_wg=NfEmC&amp;pf_rd_p=d6fc18b9-350a-43ef-bbf0-8a0340d151dd&amp;pf_rd_r=PSGT90DA3AXA4FAQFWZC&amp;qid=1675007198&amp;sprefix=phone%2Caps%2C427&amp;sr=1-7-9e85f757-0438-470e-8160-8465beaa22d5\" target=\"_blank\"><span class=\"a-size-base-plus a-color-base a-text-normal\">Nokia 105 Dual SIM, Keypad Mobile Phone with Wireless FM Radio | Charcoal</span> </a>,\n",
              " <a class=\"a-link-normal s-underline-text s-underline-link-text s-link-style a-text-normal\" href=\"/EGOTUDE-Silicone-Camera-Protection-Microfiber/dp/B0BGSYVGKK/ref=sxin_24_aspa_sqa?content-id=amzn1.sym.d6fc18b9-350a-43ef-bbf0-8a0340d151dd%3Aamzn1.sym.d6fc18b9-350a-43ef-bbf0-8a0340d151dd&amp;crid=88QLM7DXUPPF&amp;cv_ct_cx=phones&amp;keywords=phones&amp;pd_rd_i=B0BGSYVGKK&amp;pd_rd_r=4dc1253e-3c44-4e6e-9f94-f94ec3f9dfeb&amp;pd_rd_w=XtVMb&amp;pd_rd_wg=NfEmC&amp;pf_rd_p=d6fc18b9-350a-43ef-bbf0-8a0340d151dd&amp;pf_rd_r=PSGT90DA3AXA4FAQFWZC&amp;qid=1675007198&amp;sprefix=phone%2Caps%2C427&amp;sr=1-2-9e85f757-0438-470e-8160-8465beaa22d5\" target=\"_blank\"><span class=\"a-size-base-plus a-color-base a-text-normal\">EGOTUDE Silicone Soft Case Camera Protection Microfiber Lining Back Cover for iPhone 14 Pro Max (Deep Purple)</span> </a>,\n",
              " <a class=\"a-link-normal s-underline-text s-underline-link-text s-link-style a-text-normal\" href=\"/Amozo-Silicone-iPhone-Cover-Case/dp/B0BC9XXTJW/ref=sxin_24_aspa_sqa?content-id=amzn1.sym.d6fc18b9-350a-43ef-bbf0-8a0340d151dd%3Aamzn1.sym.d6fc18b9-350a-43ef-bbf0-8a0340d151dd&amp;crid=88QLM7DXUPPF&amp;cv_ct_cx=phones&amp;keywords=phones&amp;pd_rd_i=B0BC9XXTJW&amp;pd_rd_r=4dc1253e-3c44-4e6e-9f94-f94ec3f9dfeb&amp;pd_rd_w=XtVMb&amp;pd_rd_wg=NfEmC&amp;pf_rd_p=d6fc18b9-350a-43ef-bbf0-8a0340d151dd&amp;pf_rd_r=PSGT90DA3AXA4FAQFWZC&amp;qid=1675007198&amp;sprefix=phone%2Caps%2C427&amp;sr=1-4-9e85f757-0438-470e-8160-8465beaa22d5\" target=\"_blank\"><span class=\"a-size-base-plus a-color-base a-text-normal\">Amozo Shockproof Liquid Silicone Designed for iPhone 14 / iPhone 13 Back Cover Case Gel Rubber Full Body Protection Anti-Shock Cover Case Drop Protection(Silicone|Black)</span> </a>,\n",
              " <a class=\"a-link-normal s-underline-text s-underline-link-text s-link-style a-text-normal\" href=\"/EGOTUDE-Silicone-Camera-Protection-Microfiber/dp/B0BGSX5BF1/ref=sxin_24_aspa_sqa?content-id=amzn1.sym.d6fc18b9-350a-43ef-bbf0-8a0340d151dd%3Aamzn1.sym.d6fc18b9-350a-43ef-bbf0-8a0340d151dd&amp;crid=88QLM7DXUPPF&amp;cv_ct_cx=phones&amp;keywords=phones&amp;pd_rd_i=B0BGSX5BF1&amp;pd_rd_r=4dc1253e-3c44-4e6e-9f94-f94ec3f9dfeb&amp;pd_rd_w=XtVMb&amp;pd_rd_wg=NfEmC&amp;pf_rd_p=d6fc18b9-350a-43ef-bbf0-8a0340d151dd&amp;pf_rd_r=PSGT90DA3AXA4FAQFWZC&amp;qid=1675007198&amp;sprefix=phone%2Caps%2C427&amp;sr=1-6-9e85f757-0438-470e-8160-8465beaa22d5\" target=\"_blank\"><span class=\"a-size-base-plus a-color-base a-text-normal\">EGOTUDE Silicone Soft Case Camera Protection Microfiber Lining Back Cover for iPhone 14 Pro (Deep Purple)</span> </a>,\n",
              " <a class=\"a-link-normal s-underline-text s-underline-link-text s-link-style a-text-normal\" href=\"/Compatible-14-Protective-Shockproof-Anti-Scratch/dp/B0BFLQV5FM/ref=sxin_24_aspa_sqa?content-id=amzn1.sym.d6fc18b9-350a-43ef-bbf0-8a0340d151dd%3Aamzn1.sym.d6fc18b9-350a-43ef-bbf0-8a0340d151dd&amp;crid=88QLM7DXUPPF&amp;cv_ct_cx=phones&amp;keywords=phones&amp;pd_rd_i=B0BFLQV5FM&amp;pd_rd_r=4dc1253e-3c44-4e6e-9f94-f94ec3f9dfeb&amp;pd_rd_w=XtVMb&amp;pd_rd_wg=NfEmC&amp;pf_rd_p=d6fc18b9-350a-43ef-bbf0-8a0340d151dd&amp;pf_rd_r=PSGT90DA3AXA4FAQFWZC&amp;qid=1675007198&amp;sprefix=phone%2Caps%2C427&amp;sr=1-8-9e85f757-0438-470e-8160-8465beaa22d5\" target=\"_blank\"><span class=\"a-size-base-plus a-color-base a-text-normal\">LOXXO® Compatible with iPhone 14 Case, Liquid Silicone Case, Full Body Protective Cover, Shockproof, Slim Phone Case, Anti-Scratch Soft Microfiber Lining, 6.1 inch - (Purple)</span> </a>,\n",
              " <a class=\"a-link-normal s-underline-text s-underline-link-text s-link-style a-text-normal\" href=\"/Redmi-Storage-Segment-5000mAh-Battery/dp/B0BBN56J5H/ref=sr_1_11?crid=88QLM7DXUPPF&amp;keywords=phones&amp;qid=1675007198&amp;sprefix=phone%2Caps%2C427&amp;sr=8-11\" target=\"_blank\"><span class=\"a-size-medium a-color-base a-text-normal\">Redmi A1 (Black, 2GB RAM, 32GB Storage) | Segment Best AI Dual Cam | 5000mAh Battery | Leather Texture Design | Android 12</span> </a>,\n",
              " <a class=\"a-link-normal s-underline-text s-underline-link-text s-link-style a-text-normal\" href=\"/Tecno-Spark-Pro-Interstellar-64GB/dp/B09MWCWRMP/ref=sr_1_12?crid=88QLM7DXUPPF&amp;keywords=phones&amp;qid=1675007198&amp;sprefix=phone%2Caps%2C427&amp;sr=8-12\" target=\"_blank\"><span class=\"a-size-medium a-color-base a-text-normal\">Tecno Spark 8 Pro (Interstellar Black, 4GB RAM,64GB Storage) | 48MP Triple Camera | 33W Fast Charger</span> </a>,\n",
              " <a class=\"a-link-normal s-underline-text s-underline-link-text s-link-style a-text-normal\" href=\"/Redmi-Mystique-AMOLED-Snapdragon%C2%AE-Triple/dp/B0BQ3PJJDQ/ref=sr_1_13?crid=88QLM7DXUPPF&amp;keywords=phones&amp;qid=1675007198&amp;sprefix=phone%2Caps%2C427&amp;sr=8-13\" target=\"_blank\"><span class=\"a-size-medium a-color-base a-text-normal\">Redmi Note 12 5G Mystique Blue 4GB RAM 128GB ROM | 1st Phone with 120Hz Super AMOLED and Snapdragon® 4 Gen 1 | 48MP AI Triple Camera</span> </a>,\n",
              " <a class=\"a-link-normal s-underline-text s-underline-link-text s-link-style a-text-normal\" href=\"/Tecno-Spark-Storage-Expandable-Processor/dp/B0B56YRBNT/ref=sr_1_14?crid=88QLM7DXUPPF&amp;keywords=phones&amp;qid=1675007198&amp;sprefix=phone%2Caps%2C427&amp;sr=8-14\" target=\"_blank\"><span class=\"a-size-medium a-color-base a-text-normal\">Tecno Spark 9 (Sky Mirror, 6GB RAM,128GB Storage) | 11GB Expandable RAM | Helio G37 Gaming Processor</span> </a>,\n",
              " <a class=\"a-link-normal s-underline-text s-underline-link-text s-link-style a-text-normal\" href=\"/realme-Storage-Processor-Triple-Display/dp/B09RMQYHLH/ref=sr_1_15?crid=88QLM7DXUPPF&amp;keywords=phones&amp;qid=1675007198&amp;sprefix=phone%2Caps%2C427&amp;sr=8-15\" target=\"_blank\"><span class=\"a-size-medium a-color-base a-text-normal\">realme narzo 50 (Speed Blue, 4GB RAM+64GB Storage) 120Hz Full HD+ Display | 50MP AI Triple Camera | Helio G96 Powerful Gaming Processor</span> </a>,\n",
              " <a class=\"a-link-normal s-underline-text s-underline-link-text s-link-style a-text-normal\" href=\"/Redmi-Charcoal-Storage-Battery-Booster/dp/B09XB8GFBQ/ref=sr_1_16?crid=88QLM7DXUPPF&amp;keywords=phones&amp;qid=1675007198&amp;sprefix=phone%2Caps%2C427&amp;sr=8-16\" target=\"_blank\"><span class=\"a-size-medium a-color-base a-text-normal\">Redmi 10A (Charcoal Black, 4GB RAM, 64GB Storage) | 2 Ghz Octa Core Helio G25 | 5000 mAh Battery | Finger Print Sensor | Upto 5GB RAM with RAM Booster</span> </a>]"
            ]
          },
          "metadata": {},
          "execution_count": 65
        }
      ]
    },
    {
      "cell_type": "code",
      "source": [
        "for link in links:\n",
        "  print(link.text)"
      ],
      "metadata": {
        "id": "ZUH19FYS42iL",
        "colab": {
          "base_uri": "https://localhost:8080/"
        },
        "outputId": "4d1e4e88-aa5b-4aec-bf97-ed18666fe798"
      },
      "execution_count": 66,
      "outputs": [
        {
          "output_type": "stream",
          "name": "stdout",
          "text": [
            "Redmi 9A Sport (Coral Green, 2GB RAM, 32GB Storage) | 2GHz Octa-core Helio G25 Processor | 5000 mAh Battery \n",
            "realme narzo 50i (Carbon Black, 4GB RAM+64GB Storage) Octa Core Processor | 6.5\" inch Large Display \n",
            "OPPO A31 (Mystery Black, 6GB RAM, 128GB Storage) with No Cost EMI/Additional Exchange Offers \n",
            "iQOO 9 Pro 5G (Dark Cruise, 12GB RAM, 256GB Storage) | Snapdragon 8 Gen 1 Mobile Processor | 120W FlashCharge \n",
            "Samsung Galaxy Z Fold4 5G (Graygreen, 12GB RAM, 256GB Storage) + Galaxy Watch4 Classic Bluetooth (46mm, Black) \n",
            "OnePlus 10T 5G (Moonstone Black, 16GB RAM, 256GB Storage) \n",
            "Nothing Phone (1) 5G (Black, 128 GB) (8 GB RAM) \n",
            "OPPO A74 5G (Fluid Black, 6GB RAM, 128GB Storage) with No Cost EMI/Additional Exchange Offers \n",
            "Redmi 9A (Sea Blue 3GB RAM 32GB Storage)| 2GHz Octa-core Helio G25 Processor | 5000 mAh Battery \n",
            "Samsung Galaxy M13 (Aqua Green, 4GB, 64GB Storage) | 6000mAh Battery | Upto 8GB RAM with RAM Plus \n",
            "Redmi Note 11T 5G (Matte Black, 8GB RAM, 128GB ROM)| Dimensity 810 5G | 33W Pro Fast Charging | Charger Included | Additional Exchange Offers| Get 2 Months of YouTube Premium Free! \n",
            "realme narzo 50i (Carbon Black, 2GB RAM+32GB Storage) Octa Core Processor | 6.5\" inch Large Display \n",
            "Nokia G21 Android Smartphone, Dual SIM, 3-Day Battery Life, 6GB RAM + 128GB Storage, 50MP Triple AI Camera | Nordic Blue \n",
            "Redmi 9A Sport (Coral Green, 2GB RAM, 32GB Storage) | 2GHz Octa-core Helio G25 Processor | 5000 mAh Battery \n",
            "Nokia 105 Single SIM, Keypad Mobile Phone with Wireless FM Radio | Charcoal \n",
            "Redmi A1 (Black, 2GB RAM, 32GB Storage) | Segment Best AI Dual Cam | 5000mAh Battery | Leather Texture Design | Android 12 \n",
            "Nokia 105 Dual SIM, Keypad Mobile Phone with Wireless FM Radio | Charcoal \n",
            "EGOTUDE Silicone Soft Case Camera Protection Microfiber Lining Back Cover for iPhone 14 Pro Max (Deep Purple) \n",
            "Amozo Shockproof Liquid Silicone Designed for iPhone 14 / iPhone 13 Back Cover Case Gel Rubber Full Body Protection Anti-Shock Cover Case Drop Protection(Silicone|Black) \n",
            "EGOTUDE Silicone Soft Case Camera Protection Microfiber Lining Back Cover for iPhone 14 Pro (Deep Purple) \n",
            "LOXXO® Compatible with iPhone 14 Case, Liquid Silicone Case, Full Body Protective Cover, Shockproof, Slim Phone Case, Anti-Scratch Soft Microfiber Lining, 6.1 inch - (Purple) \n",
            "Redmi A1 (Black, 2GB RAM, 32GB Storage) | Segment Best AI Dual Cam | 5000mAh Battery | Leather Texture Design | Android 12 \n",
            "Tecno Spark 8 Pro (Interstellar Black, 4GB RAM,64GB Storage) | 48MP Triple Camera | 33W Fast Charger \n",
            "Redmi Note 12 5G Mystique Blue 4GB RAM 128GB ROM | 1st Phone with 120Hz Super AMOLED and Snapdragon® 4 Gen 1 | 48MP AI Triple Camera \n",
            "Tecno Spark 9 (Sky Mirror, 6GB RAM,128GB Storage) | 11GB Expandable RAM | Helio G37 Gaming Processor \n",
            "realme narzo 50 (Speed Blue, 4GB RAM+64GB Storage) 120Hz Full HD+ Display | 50MP AI Triple Camera | Helio G96 Powerful Gaming Processor \n",
            "Redmi 10A (Charcoal Black, 4GB RAM, 64GB Storage) | 2 Ghz Octa Core Helio G25 | 5000 mAh Battery | Finger Print Sensor | Upto 5GB RAM with RAM Booster \n"
          ]
        }
      ]
    },
    {
      "cell_type": "code",
      "source": [
        "link=links[1].get('href')"
      ],
      "metadata": {
        "id": "slAbN6bCKTOD"
      },
      "execution_count": 70,
      "outputs": []
    },
    {
      "cell_type": "code",
      "source": [
        "new_url=\"https://amazon.com\"+link"
      ],
      "metadata": {
        "id": "5-UOB-uqMWMB"
      },
      "execution_count": 72,
      "outputs": []
    },
    {
      "cell_type": "code",
      "source": [
        "new_url"
      ],
      "metadata": {
        "colab": {
          "base_uri": "https://localhost:8080/",
          "height": 36
        },
        "id": "NIz0_AajMzwx",
        "outputId": "a3a5fdff-25a5-45ea-9310-124abe8a1fb5"
      },
      "execution_count": 73,
      "outputs": [
        {
          "output_type": "execute_result",
          "data": {
            "text/plain": [
              "'https://amazon.com/realme-narzo-Carbon-Black-Storage/dp/B09FKB3446/ref=sr_1_2?crid=88QLM7DXUPPF&keywords=phones&qid=1675007198&sprefix=phone%2Caps%2C427&sr=8-2'"
            ],
            "application/vnd.google.colaboratory.intrinsic+json": {
              "type": "string"
            }
          },
          "metadata": {},
          "execution_count": 73
        }
      ]
    },
    {
      "cell_type": "code",
      "source": [
        "new_webpage=requests.get(new_url,headers=Headers)"
      ],
      "metadata": {
        "id": "e01Vea2DOKcF"
      },
      "execution_count": 74,
      "outputs": []
    },
    {
      "cell_type": "code",
      "source": [
        "new_webpage"
      ],
      "metadata": {
        "colab": {
          "base_uri": "https://localhost:8080/"
        },
        "id": "XZp1aXICOjA2",
        "outputId": "699234ab-23e0-43af-e35f-6806f5365a59"
      },
      "execution_count": 75,
      "outputs": [
        {
          "output_type": "execute_result",
          "data": {
            "text/plain": [
              "<Response [200]>"
            ]
          },
          "metadata": {},
          "execution_count": 75
        }
      ]
    },
    {
      "cell_type": "code",
      "source": [
        "new_soup=bs4.BeautifulSoup(new_webpage.content,'lxml')"
      ],
      "metadata": {
        "id": "7q7JdxBFOpC_"
      },
      "execution_count": 76,
      "outputs": []
    },
    {
      "cell_type": "code",
      "source": [
        "# Function to extract Product Title\n",
        "def get_title(soup):\n",
        "\n",
        "    try:\n",
        "        # Outer Tag Object\n",
        "        title = soup.find(\"span\", attrs={\"id\":'productTitle'})\n",
        "        \n",
        "        # Inner NavigatableString Object\n",
        "        title_value = title.text\n",
        "\n",
        "        # Title as a string value\n",
        "        title_string = title_value.strip()\n",
        "\n",
        "    except AttributeError:\n",
        "        title_string = \"\"\n",
        "\n",
        "    return title_string\n",
        "\n",
        "# Function to extract Product Price\n",
        "def get_price(soup):\n",
        "\n",
        "    try:\n",
        "        price = soup.find(\"span\", attrs={'id':'priceblock_ourprice'}).string.strip()\n",
        "\n",
        "    except AttributeError:\n",
        "\n",
        "        try:\n",
        "            # If there is some deal price\n",
        "            price = soup.find(\"span\", attrs={'id':'priceblock_dealprice'}).string.strip()\n",
        "\n",
        "        except:\n",
        "            price = \"\"\n",
        "\n",
        "    return price\n",
        "\n",
        "# Function to extract Product Rating\n",
        "def get_rating(soup):\n",
        "\n",
        "    try:\n",
        "        rating = soup.find(\"i\", attrs={'class':'a-icon a-icon-star a-star-4-5'}).string.strip()\n",
        "    \n",
        "    except AttributeError:\n",
        "        try:\n",
        "            rating = soup.find(\"span\", attrs={'class':'a-icon-alt'}).string.strip()\n",
        "        except:\n",
        "            rating = \"\"\t\n",
        "\n",
        "    return rating\n",
        "\n",
        "# Function to extract Number of User Reviews\n",
        "def get_review_count(soup):\n",
        "    try:\n",
        "        review_count = soup.find(\"span\", attrs={'id':'acrCustomerReviewText'}).string.strip()\n",
        "\n",
        "    except AttributeError:\n",
        "        review_count = \"\"\t\n",
        "\n",
        "    return review_count\n",
        "\n",
        "# Function to extract Availability Status\n",
        "def get_availability(soup):\n",
        "    try:\n",
        "        available = soup.find(\"div\", attrs={'id':'availability'})\n",
        "        available = available.find(\"span\").string.strip()\n",
        "\n",
        "    except AttributeError:\n",
        "        available = \"Not Available\"\t\n",
        "\n",
        "    return available"
      ],
      "metadata": {
        "id": "Wb0JdZsMQIqy"
      },
      "execution_count": 78,
      "outputs": []
    },
    {
      "cell_type": "code",
      "source": [
        "if __name__ == '__main__':\n",
        "\n",
        "    # add your user agent \n",
        "    HEADERS = ({'User-Agent':'', 'Accept-Language': 'en-US, en;q=0.5'})\n",
        "\n",
        "    # The webpage URL\n",
        "    URL = \"https://www.amazon.com/s?k=playstation+4&ref=nb_sb_noss_2\"\n",
        "\n",
        "    # HTTP Request\n",
        "    webpage = requests.get(URL, headers=HEADERS)\n",
        "\n",
        "    # Soup Object containing all data\n",
        "    soup = bs4.BeautifulSoup(webpage.content, \"html.parser\")\n",
        "\n",
        "    # Fetch links as List of Tag Objects\n",
        "    links = soup.find_all(\"a\", attrs={'class':'a-link-normal s-no-outline'})\n",
        "\n",
        "    # Store the links\n",
        "    links_list = []\n",
        "\n",
        "    # Loop for extracting links from Tag Objects\n",
        "    for link in links:\n",
        "            links_list.append(link.get('href'))\n",
        "\n",
        "    d = {\"title\":[], \"price\":[], \"rating\":[], \"reviews\":[],\"availability\":[]}\n",
        "    \n",
        "    # Loop for extracting product details from each link \n",
        "    for link in links_list:\n",
        "        new_webpage = requests.get(\"https://www.amazon.com\" + link, headers=HEADERS)\n",
        "\n",
        "        new_soup = BeautifulSoup(new_webpage.content, \"html.parser\")\n",
        "\n",
        "        # Function calls to display all necessary product information\n",
        "        d['title'].append(get_title(new_soup))\n",
        "        d['price'].append(get_price(new_soup))\n",
        "        d['rating'].append(get_rating(new_soup))\n",
        "        d['reviews'].append(get_review_count(new_soup))\n",
        "        d['availability'].append(get_availability(new_soup))\n",
        "\n",
        "    \n",
        "    amazon_df = pd.DataFrame.from_dict(d)\n",
        "    amazon_df['title'].replace('', np.nan, inplace=True)\n",
        "    amazon_df = amazon_df.dropna(subset=['title'])\n",
        "    amazon_df.to_csv(\"amazon_data.csv\", header=True, index=False)"
      ],
      "metadata": {
        "colab": {
          "base_uri": "https://localhost:8080/",
          "height": 235
        },
        "id": "U6POTtCTQolZ",
        "outputId": "d3d41617-3062-4a94-de33-c086dce888cb"
      },
      "execution_count": 80,
      "outputs": [
        {
          "output_type": "error",
          "ename": "NameError",
          "evalue": "ignored",
          "traceback": [
            "\u001b[0;31m---------------------------------------------------------------------------\u001b[0m",
            "\u001b[0;31mNameError\u001b[0m                                 Traceback (most recent call last)",
            "\u001b[0;32m<ipython-input-80-6dbfefe94459>\u001b[0m in \u001b[0;36m<module>\u001b[0;34m\u001b[0m\n\u001b[1;32m     29\u001b[0m         \u001b[0mnew_webpage\u001b[0m \u001b[0;34m=\u001b[0m \u001b[0mrequests\u001b[0m\u001b[0;34m.\u001b[0m\u001b[0mget\u001b[0m\u001b[0;34m(\u001b[0m\u001b[0;34m\"https://www.amazon.com\"\u001b[0m \u001b[0;34m+\u001b[0m \u001b[0mlink\u001b[0m\u001b[0;34m,\u001b[0m \u001b[0mheaders\u001b[0m\u001b[0;34m=\u001b[0m\u001b[0mHEADERS\u001b[0m\u001b[0;34m)\u001b[0m\u001b[0;34m\u001b[0m\u001b[0;34m\u001b[0m\u001b[0m\n\u001b[1;32m     30\u001b[0m \u001b[0;34m\u001b[0m\u001b[0m\n\u001b[0;32m---> 31\u001b[0;31m         \u001b[0mnew_soup\u001b[0m \u001b[0;34m=\u001b[0m \u001b[0mBeautifulSoup\u001b[0m\u001b[0;34m(\u001b[0m\u001b[0mnew_webpage\u001b[0m\u001b[0;34m.\u001b[0m\u001b[0mcontent\u001b[0m\u001b[0;34m,\u001b[0m \u001b[0;34m\"html.parser\"\u001b[0m\u001b[0;34m)\u001b[0m\u001b[0;34m\u001b[0m\u001b[0;34m\u001b[0m\u001b[0m\n\u001b[0m\u001b[1;32m     32\u001b[0m \u001b[0;34m\u001b[0m\u001b[0m\n\u001b[1;32m     33\u001b[0m         \u001b[0;31m# Function calls to display all necessary product information\u001b[0m\u001b[0;34m\u001b[0m\u001b[0;34m\u001b[0m\u001b[0;34m\u001b[0m\u001b[0m\n",
            "\u001b[0;31mNameError\u001b[0m: name 'BeautifulSoup' is not defined"
          ]
        }
      ]
    }
  ]
}