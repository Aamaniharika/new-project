{
  "nbformat": 4,
  "nbformat_minor": 0,
  "metadata": {
    "colab": {
      "provenance": [],
      "authorship_tag": "ABX9TyPm6t6xlo/PaaVlQz2RZy3w",
      "include_colab_link": true
    },
    "kernelspec": {
      "name": "python3",
      "display_name": "Python 3"
    },
    "language_info": {
      "name": "python"
    }
  },
  "cells": [
    {
      "cell_type": "markdown",
      "metadata": {
        "id": "view-in-github",
        "colab_type": "text"
      },
      "source": [
        "<a href=\"https://colab.research.google.com/github/Aamaniharika/new-project/blob/main/unzipping_file_and_searching_pattern.ipynb\" target=\"_parent\"><img src=\"https://colab.research.google.com/assets/colab-badge.svg\" alt=\"Open In Colab\"/></a>"
      ]
    },
    {
      "cell_type": "code",
      "execution_count": 3,
      "metadata": {
        "id": "zLQea4PEn4ys"
      },
      "outputs": [],
      "source": [
        "import os,shutil,re,send2trash\n"
      ]
    },
    {
      "cell_type": "code",
      "source": [
        "puzz_dir='/content/unzip_me_for_instructions.zip'\n",
        "if os.getcwd()!=puzz_dir:\n",
        "  os.chdir=puzz_dir\n"
      ],
      "metadata": {
        "id": "_SsFxXwbrxKM"
      },
      "execution_count": 4,
      "outputs": []
    },
    {
      "cell_type": "code",
      "source": [
        "pwd"
      ],
      "metadata": {
        "colab": {
          "base_uri": "https://localhost:8080/",
          "height": 36
        },
        "id": "XB-ZAh_-tikG",
        "outputId": "93c8537b-7753-4862-caec-baefa8f05464"
      },
      "execution_count": 5,
      "outputs": [
        {
          "output_type": "execute_result",
          "data": {
            "text/plain": [
              "'/content'"
            ],
            "application/vnd.google.colaboratory.intrinsic+json": {
              "type": "string"
            }
          },
          "metadata": {},
          "execution_count": 5
        }
      ]
    },
    {
      "cell_type": "code",
      "source": [
        "shutil.unpack_archive('/unzip_me_for_instructions.zip','extracted file','zip')"
      ],
      "metadata": {
        "id": "6z84GjALoESL"
      },
      "execution_count": 9,
      "outputs": []
    },
    {
      "cell_type": "code",
      "source": [
        "pwd"
      ],
      "metadata": {
        "colab": {
          "base_uri": "https://localhost:8080/",
          "height": 36
        },
        "id": "2SMdOa8iXR60",
        "outputId": "e4b4d2bd-9cc5-4fa1-8295-106647c0120c"
      },
      "execution_count": 10,
      "outputs": [
        {
          "output_type": "execute_result",
          "data": {
            "text/plain": [
              "'/content'"
            ],
            "application/vnd.google.colaboratory.intrinsic+json": {
              "type": "string"
            }
          },
          "metadata": {},
          "execution_count": 10
        }
      ]
    },
    {
      "cell_type": "code",
      "source": [
        "with open('/content/extracted file/extracted_content/Instructions.txt') as f:\n",
        "  content=f.read()\n",
        "  f.seek(0)\n",
        "  print(content)\n"
      ],
      "metadata": {
        "colab": {
          "base_uri": "https://localhost:8080/"
        },
        "id": "BCfFipKYuUfP",
        "outputId": "0367f5dd-0c60-4986-bbf5-5509b1fe73fd"
      },
      "execution_count": 13,
      "outputs": [
        {
          "output_type": "stream",
          "name": "stdout",
          "text": [
            "Good work on unzipping the file!\n",
            "You should now see 5 folders, each with a lot of random .txt files.\n",
            "Within one of these text files is a telephone number formated ###-###-#### \n",
            "Use the Python os module and regular expressions to iterate through each file, open it, and search for a telephone number.\n",
            "Good luck!\n"
          ]
        }
      ]
    },
    {
      "cell_type": "code",
      "source": [
        "shutil.move('/content/extracted file/extracted_content/' ,'destination_file')"
      ],
      "metadata": {
        "colab": {
          "base_uri": "https://localhost:8080/",
          "height": 36
        },
        "id": "mn6Ufz9grXDZ",
        "outputId": "f1fb306f-7e4b-40a8-a049-ed4148cd0d14"
      },
      "execution_count": 14,
      "outputs": [
        {
          "output_type": "execute_result",
          "data": {
            "text/plain": [
              "'destination_file'"
            ],
            "application/vnd.google.colaboratory.intrinsic+json": {
              "type": "string"
            }
          },
          "metadata": {},
          "execution_count": 14
        }
      ]
    },
    {
      "cell_type": "code",
      "source": [
        "import send2trash"
      ],
      "metadata": {
        "id": "Uebs4bXWYNk3"
      },
      "execution_count": 17,
      "outputs": []
    },
    {
      "cell_type": "code",
      "source": [
        "send2trash.send2trash('/content/extracted file')"
      ],
      "metadata": {
        "id": "xeU_QY78X8YZ"
      },
      "execution_count": 19,
      "outputs": []
    },
    {
      "cell_type": "code",
      "source": [
        "pwd"
      ],
      "metadata": {
        "colab": {
          "base_uri": "https://localhost:8080/",
          "height": 36
        },
        "id": "sHCtz9CuYaJb",
        "outputId": "28da5e09-5ef4-40be-b0d0-f77a7853bcb7"
      },
      "execution_count": 20,
      "outputs": [
        {
          "output_type": "execute_result",
          "data": {
            "text/plain": [
              "'/content'"
            ],
            "application/vnd.google.colaboratory.intrinsic+json": {
              "type": "string"
            }
          },
          "metadata": {},
          "execution_count": 20
        }
      ]
    },
    {
      "cell_type": "code",
      "source": [
        "os.chdir='/content/destination_file'"
      ],
      "metadata": {
        "id": "kHycxQgQm2ah"
      },
      "execution_count": 21,
      "outputs": []
    },
    {
      "cell_type": "code",
      "source": [
        "for folder, sub_folders, files in os.walk('/content/destination_file'):\n",
        "    print(f'\\nScanning folder: \\n{folder}')\n",
        "    print('\\n')\n",
        "    \n",
        "    if len(sub_folders) >= 1:                          # checks if there is any sub-folder\n",
        "        print('Sub_folders are: ')\n",
        "        \n",
        "        for sub_fold in sub_folders:\n",
        "            print(f'\\tSubfolder: {sub_fold}')    \n",
        "    \n",
        "    print('\\n')\n",
        " \n",
        "    for f in files:\n",
        "        if f == '.DS_Store':   # skips macOS folder pref files as creates problems downstream\n",
        "            continue\n",
        "        \n",
        "        print(f'Scanning file: \\n{f}')\n",
        " \n",
        "        with open(os.path.join(os.getcwd(),folder,f)) as file:   # have to provide correct path to f for open() to work\n",
        "            file.seek(0)                           # resets cursor position if file already read.\n",
        "            file_content = file.read()\n",
        "            \n",
        "            for match in re.finditer(r'\\d\\d\\d-\\d\\d\\d-\\d\\d\\d\\d',file_content):\n",
        "                print(f\"\\nThe file '{f}' contains the phone number {match.group()} at position {match.span()}.\\n\")"
      ],
      "metadata": {
        "colab": {
          "base_uri": "https://localhost:8080/"
        },
        "id": "WamqZYNgujY8",
        "outputId": "1680929f-6181-4dff-af5c-740d762eb82e"
      },
      "execution_count": 25,
      "outputs": [
        {
          "output_type": "stream",
          "name": "stdout",
          "text": [
            "\n",
            "Scanning folder: \n",
            "/content/destination_file\n",
            "\n",
            "\n",
            "Sub_folders are: \n",
            "\tSubfolder: One\n",
            "\tSubfolder: Three\n",
            "\tSubfolder: Five\n",
            "\tSubfolder: Four\n",
            "\tSubfolder: Two\n",
            "\n",
            "\n",
            "Scanning file: \n",
            "Instructions.txt\n",
            "\n",
            "Scanning folder: \n",
            "/content/destination_file/One\n",
            "\n",
            "\n",
            "\n",
            "\n",
            "Scanning file: \n",
            "PTOBBCJYURJ.txt\n",
            "Scanning file: \n",
            "JTHSNBNPQSE.txt\n",
            "Scanning file: \n",
            "JQUOBKFUACN.txt\n",
            "Scanning file: \n",
            "HDOHZHFSTTK.txt\n",
            "Scanning file: \n",
            "KTXDHIOKAUI.txt\n",
            "Scanning file: \n",
            "PQNVCVJINAR.txt\n",
            "Scanning file: \n",
            "HRQFTHKVJTL.txt\n",
            "Scanning file: \n",
            "LPNDVDXPZIG.txt\n",
            "Scanning file: \n",
            "HVUTZEVMSBW.txt\n",
            "Scanning file: \n",
            "PLYCGPVEAWO.txt\n",
            "Scanning file: \n",
            "KCXGNQCZBLO.txt\n",
            "Scanning file: \n",
            "KFIUZFERLET.txt\n",
            "Scanning file: \n",
            "LHODFIKVTQA.txt\n",
            "Scanning file: \n",
            "KNBSKDREHQU.txt\n",
            "Scanning file: \n",
            "LIFDHOFKWOI.txt\n",
            "Scanning file: \n",
            "PDJMSMNKIRM.txt\n",
            "Scanning file: \n",
            "HMNZTLIFGPD.txt\n",
            "Scanning file: \n",
            "LFEATJAAYDC.txt\n",
            "Scanning file: \n",
            "JEHBLZPUPSP.txt\n",
            "Scanning file: \n",
            "HFUTPPAXDIS.txt\n",
            "Scanning file: \n",
            "KMMLGJOWLGI.txt\n",
            "Scanning file: \n",
            "JDLRVFCXYLU.txt\n",
            "Scanning file: \n",
            "PHWAVPEKAER.txt\n",
            "Scanning file: \n",
            "LDGOCUQJNNS.txt\n",
            "Scanning file: \n",
            "JLTXKIGCWDL.txt\n",
            "\n",
            "Scanning folder: \n",
            "/content/destination_file/Three\n",
            "\n",
            "\n",
            "\n",
            "\n",
            "Scanning file: \n",
            "XFHJOTNPEJG.txt\n",
            "Scanning file: \n",
            "YDQFMWXOUMW.txt\n",
            "Scanning file: \n",
            "XHZPVUQTXIO.txt\n",
            "Scanning file: \n",
            "ZOWVXWPOGWP.txt\n",
            "Scanning file: \n",
            "XAJMCPEWFNI.txt\n",
            "Scanning file: \n",
            "XVMPVSVYKFR.txt\n",
            "Scanning file: \n",
            "VAQIJTDOFUJ.txt\n",
            "Scanning file: \n",
            "ZXEZRQXZNPG.txt\n",
            "Scanning file: \n",
            "VCFJCGJFBIH.txt\n",
            "Scanning file: \n",
            "XJCWENFFGHB.txt\n",
            "Scanning file: \n",
            "VSXFSTABZDY.txt\n",
            "Scanning file: \n",
            "YYIZGBTQHZP.txt\n",
            "Scanning file: \n",
            "ZKQJXAYKPVD.txt\n",
            "Scanning file: \n",
            "ZXIBJMPROKW.txt\n",
            "Scanning file: \n",
            "YQRNCMNFFHW.txt\n",
            "Scanning file: \n",
            "YCESZHJDBXH.txt\n",
            "Scanning file: \n",
            "VVKGWLRMHLU.txt\n",
            "Scanning file: \n",
            "YQBIUHSUEVW.txt\n",
            "Scanning file: \n",
            "VVHFVZUNLOO.txt\n",
            "Scanning file: \n",
            "ZEZKKRBIZEB.txt\n",
            "\n",
            "Scanning folder: \n",
            "/content/destination_file/Five\n",
            "\n",
            "\n",
            "\n",
            "\n",
            "Scanning file: \n",
            "ETCUEXWNBCF.txt\n",
            "Scanning file: \n",
            "DQPZQLBCJYP.txt\n",
            "Scanning file: \n",
            "AEITMYIRQLP.txt\n",
            "Scanning file: \n",
            "AXJGVPVEFAS.txt\n",
            "Scanning file: \n",
            "CRFSDGYFSHA.txt\n",
            "Scanning file: \n",
            "CSCLFZCDYYC.txt\n",
            "Scanning file: \n",
            "BTYWAHLHKBM.txt\n",
            "Scanning file: \n",
            "BVBURZZCAPR.txt\n",
            "Scanning file: \n",
            "APJKSRITGGX.txt\n",
            "Scanning file: \n",
            "ARLKFCWIAJE.txt\n",
            "Scanning file: \n",
            "DZUWWXYIAEL.txt\n",
            "Scanning file: \n",
            "ESIZWBHMGDP.txt\n",
            "Scanning file: \n",
            "BUGKBZWRRVI.txt\n",
            "Scanning file: \n",
            "DDLASODUVPX.txt\n",
            "Scanning file: \n",
            "AQKATDFGXTS.txt\n",
            "Scanning file: \n",
            "EYTCGIOYWIW.txt\n",
            "Scanning file: \n",
            "CXBVCTRBBIE.txt\n",
            "Scanning file: \n",
            "BNUQEHCFRTG.txt\n",
            "Scanning file: \n",
            "BSKJDRNEZQM.txt\n",
            "Scanning file: \n",
            "DYOPIIVMZOO.txt\n",
            "Scanning file: \n",
            "EAAOEPSAWMQ.txt\n",
            "Scanning file: \n",
            "EIPWXMQZJKU.txt\n",
            "Scanning file: \n",
            "CAHBEVSVDDN.txt\n",
            "Scanning file: \n",
            "DHZBAAYEADM.txt\n",
            "Scanning file: \n",
            "COMGMZBJAYE.txt\n",
            "\n",
            "Scanning folder: \n",
            "/content/destination_file/Four\n",
            "\n",
            "\n",
            "\n",
            "\n",
            "Scanning file: \n",
            "TJFMLJODVAD.txt\n",
            "Scanning file: \n",
            "EXVQSVBQQQH.txt\n",
            "Scanning file: \n",
            "QCWCFLKNZMN.txt\n",
            "Scanning file: \n",
            "ECIOBYCDVFI.txt\n",
            "Scanning file: \n",
            "REAXWSOIQDY.txt\n",
            "Scanning file: \n",
            "QCTCKDIBBVG.txt\n",
            "Scanning file: \n",
            "RSXOTNGKBML.txt\n",
            "Scanning file: \n",
            "TWUOYFCCYBQ.txt\n",
            "Scanning file: \n",
            "ROICPTWKXDX.txt\n",
            "Scanning file: \n",
            "QVNJULGXNUM.txt\n",
            "Scanning file: \n",
            "EPRNUHRSESC.txt\n",
            "Scanning file: \n",
            "ESDIZXHYCVY.txt\n",
            "Scanning file: \n",
            "EMTGPSXQEJX.txt\n",
            "\n",
            "The file 'EMTGPSXQEJX.txt' contains the phone number 719-266-2837 at position (1062, 1074).\n",
            "\n",
            "Scanning file: \n",
            "RYNXFYXMKHG.txt\n",
            "Scanning file: \n",
            "RXDARIDGKBF.txt\n",
            "Scanning file: \n",
            "WYDLGSGGXKV.txt\n",
            "Scanning file: \n",
            "TAKNAVDMZKV.txt\n",
            "Scanning file: \n",
            "WXDJDOGZEHN.txt\n",
            "Scanning file: \n",
            "WNJISWPEBRS.txt\n",
            "Scanning file: \n",
            "WHTOHQUWXIN.txt\n",
            "Scanning file: \n",
            "QDDETWBHJYC.txt\n",
            "Scanning file: \n",
            "WFSKPTXPFCH.txt\n",
            "Scanning file: \n",
            "THPNEGKTJWI.txt\n",
            "Scanning file: \n",
            "QTDYYIFPHAU.txt\n",
            "Scanning file: \n",
            "TKCZSFQNJTX.txt\n",
            "\n",
            "Scanning folder: \n",
            "/content/destination_file/Two\n",
            "\n",
            "\n",
            "\n",
            "\n",
            "Scanning file: \n",
            "LSQSTGPIGIY.txt\n",
            "Scanning file: \n",
            "GKQBQRCTNNK.txt\n",
            "Scanning file: \n",
            "SJMJLDGPBSJ.txt\n",
            "Scanning file: \n",
            "GMMQQUBMJNR.txt\n",
            "Scanning file: \n",
            "HMUTDOVNYTV.txt\n",
            "Scanning file: \n",
            "OYMAGXAGWHJ.txt\n",
            "Scanning file: \n",
            "LCJZYDHBFRM.txt\n",
            "Scanning file: \n",
            "LYZEQCVYNEZ.txt\n",
            "Scanning file: \n",
            "OKWFOOYTXFU.txt\n",
            "Scanning file: \n",
            "GTOTCIWMDBY.txt\n",
            "Scanning file: \n",
            "GQTJJORZBXY.txt\n",
            "Scanning file: \n",
            "OHZOUOSFJQC.txt\n",
            "Scanning file: \n",
            "OIHMLGMWTHL.txt\n",
            "Scanning file: \n",
            "HEORIXOTANT.txt\n",
            "Scanning file: \n",
            "SPDZYGDHEWO.txt\n",
            "Scanning file: \n",
            "HMZXPBOPRAE.txt\n",
            "Scanning file: \n",
            "OMWIMVRCMYM.txt\n",
            "Scanning file: \n",
            "SOFUJYXTIMK.txt\n",
            "Scanning file: \n",
            "LULTNYAQEJG.txt\n",
            "Scanning file: \n",
            "SWOFXREEHWA.txt\n",
            "Scanning file: \n",
            "GXYSEPAFRTP.txt\n",
            "Scanning file: \n",
            "SIKFPPLCJDN.txt\n",
            "Scanning file: \n",
            "LVMBINRBJXL.txt\n",
            "Scanning file: \n",
            "HARDNJGDRBC.txt\n",
            "Scanning file: \n",
            "HTOHSTYXTCO.txt\n"
          ]
        }
      ]
    },
    {
      "cell_type": "code",
      "source": [
        "def search(pattern=r'd{3}-d{3}-d{4}',fi):\n",
        "  f=open(fi)\n",
        "  text=f.read()\n",
        "  if re.finditer(pattern,text):\n",
        "    return re.match()\n",
        "\n"
      ],
      "metadata": {
        "id": "nWUAsF1Hcsv1"
      },
      "execution_count": null,
      "outputs": []
    },
    {
      "cell_type": "code",
      "source": [
        "import re"
      ],
      "metadata": {
        "id": "9SY1guyHn_vv"
      },
      "execution_count": 22,
      "outputs": []
    },
    {
      "cell_type": "code",
      "source": [
        "def search(file,pattern= r'\\d{3}-\\d{3}-\\d{4}'):\n",
        "    f = open(file,'r')\n",
        "    text = f.read()\n",
        "    match=re.search(pattern,text)\n",
        "    if match:\n",
        "        return match.group()\n",
        "    else:\n",
        "        return ''"
      ],
      "metadata": {
        "id": "5JUTpYiXoQ-k"
      },
      "execution_count": 24,
      "outputs": []
    }
  ]
}