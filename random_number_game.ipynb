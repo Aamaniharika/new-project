{
  "nbformat": 4,
  "nbformat_minor": 0,
  "metadata": {
    "colab": {
      "provenance": [],
      "authorship_tag": "ABX9TyO9kTxfQ+vDiyDKPBEfyoOb",
      "include_colab_link": true
    },
    "kernelspec": {
      "name": "python3",
      "display_name": "Python 3"
    },
    "language_info": {
      "name": "python"
    }
  },
  "cells": [
    {
      "cell_type": "markdown",
      "metadata": {
        "id": "view-in-github",
        "colab_type": "text"
      },
      "source": [
        "<a href=\"https://colab.research.google.com/github/Aamaniharika/new-project/blob/main/random_number_game.ipynb\" target=\"_parent\"><img src=\"https://colab.research.google.com/assets/colab-badge.svg\" alt=\"Open In Colab\"/></a>"
      ]
    },
    {
      "cell_type": "code",
      "source": [
        "from random import shuffle"
      ],
      "metadata": {
        "id": "V6r8VxyyR9PC"
      },
      "execution_count": 9,
      "outputs": []
    },
    {
      "cell_type": "code",
      "execution_count": 2,
      "metadata": {
        "id": "PsVz_VXyP0J9"
      },
      "outputs": [],
      "source": [
        "mylist=['','O','']\n"
      ]
    },
    {
      "cell_type": "code",
      "source": [
        "def shuffle_list(mylist):\n",
        "  shuffle(mylist)\n",
        "  return mylist\n",
        "  "
      ],
      "metadata": {
        "id": "4Zf0u4n5SGB0"
      },
      "execution_count": 25,
      "outputs": []
    },
    {
      "cell_type": "code",
      "source": [
        "result=shuffle_list(mylist)\n",
        "result"
      ],
      "metadata": {
        "colab": {
          "base_uri": "https://localhost:8080/"
        },
        "id": "oXa9_u0ibDRw",
        "outputId": "b07a5aec-70d7-4c6b-8df4-5b15d9333f00"
      },
      "execution_count": 30,
      "outputs": [
        {
          "output_type": "execute_result",
          "data": {
            "text/plain": [
              "['o', ' ', ' ']"
            ]
          },
          "metadata": {},
          "execution_count": 30
        }
      ]
    },
    {
      "cell_type": "code",
      "source": [
        "def input_num ():\n",
        "  a=' '\n",
        "  while a  not in ['0','1','2']:\n",
        "    a=input('enter the value 0or 1or 2')\n",
        "  return int(a)"
      ],
      "metadata": {
        "id": "y5vYNCr1Sip1"
      },
      "execution_count": 31,
      "outputs": []
    },
    {
      "cell_type": "code",
      "source": [
        "input_num()"
      ],
      "metadata": {
        "colab": {
          "base_uri": "https://localhost:8080/"
        },
        "id": "b1eU2aRYbQhQ",
        "outputId": "cb9966b1-02a0-4eb1-ba09-3cdd99f60378"
      },
      "execution_count": 33,
      "outputs": [
        {
          "name": "stdout",
          "output_type": "stream",
          "text": [
            "enter the value 0or 1or 24\n",
            "enter the value 0or 1or 21\n"
          ]
        },
        {
          "output_type": "execute_result",
          "data": {
            "text/plain": [
              "1"
            ]
          },
          "metadata": {},
          "execution_count": 33
        }
      ]
    },
    {
      "cell_type": "code",
      "source": [
        "def check_num(mylist,num):\n",
        "    if mylist[num] == 'o':\n",
        "      print('correct')\n",
        "    else :\n",
        "     print('wrong')\n",
        "     print(mylist)\n"
      ],
      "metadata": {
        "id": "M5AXgswjWxj9"
      },
      "execution_count": 34,
      "outputs": []
    },
    {
      "cell_type": "code",
      "source": [
        "mylist =[' ','o',' ']\n",
        "shuffle_num=shuffle_list(mylist)\n",
        "imputed=input_num()\n",
        "check_num(shuffle_num,imputed)\n"
      ],
      "metadata": {
        "colab": {
          "base_uri": "https://localhost:8080/"
        },
        "id": "1Kk7No5VXQUG",
        "outputId": "a2ee8585-ba66-4679-9ab9-00bce6077207"
      },
      "execution_count": 38,
      "outputs": [
        {
          "output_type": "stream",
          "name": "stdout",
          "text": [
            "enter the value 0or 1or 21\n",
            "wrong\n",
            "['o', ' ', ' ']\n"
          ]
        }
      ]
    }
  ]
}