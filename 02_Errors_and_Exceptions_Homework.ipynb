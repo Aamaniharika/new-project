{
  "cells": [
    {
      "cell_type": "markdown",
      "metadata": {
        "id": "view-in-github",
        "colab_type": "text"
      },
      "source": [
        "<a href=\"https://colab.research.google.com/github/Aamaniharika/new-project/blob/main/02_Errors_and_Exceptions_Homework.ipynb\" target=\"_parent\"><img src=\"https://colab.research.google.com/assets/colab-badge.svg\" alt=\"Open In Colab\"/></a>"
      ]
    },
    {
      "cell_type": "markdown",
      "metadata": {
        "id": "xLX3ruqKTz4O"
      },
      "source": [
        "___\n",
        "\n",
        "<a href='https://www.udemy.com/user/joseportilla/'><img src='../Pierian_Data_Logo.png'/></a>\n",
        "___\n",
        "<center><em>Content Copyright by Pierian Data</em></center>"
      ]
    },
    {
      "cell_type": "markdown",
      "metadata": {
        "id": "Hjqj-0gMTz4S"
      },
      "source": [
        "# Errors and Exceptions Homework"
      ]
    },
    {
      "cell_type": "markdown",
      "metadata": {
        "id": "YVJ6ODApTz4T"
      },
      "source": [
        "### Problem 1\n",
        "Handle the exception thrown by the code below by using <code>try</code> and <code>except</code> blocks."
      ]
    },
    {
      "cell_type": "code",
      "execution_count": 3,
      "metadata": {
        "colab": {
          "base_uri": "https://localhost:8080/"
        },
        "id": "GDRZH0n4Tz4U",
        "outputId": "9aa69ab7-c3b5-4a1d-dc08-85fd41504314"
      },
      "outputs": [
        {
          "output_type": "stream",
          "name": "stdout",
          "text": [
            "there is errror in list\n"
          ]
        }
      ],
      "source": [
        "try:\n",
        "  for i in ['a','b','c']:\n",
        "    print(i**2)\n",
        "except TypeError:\n",
        "  print(\"there is errror in list\")"
      ]
    },
    {
      "cell_type": "markdown",
      "metadata": {
        "id": "fUOxjCrgTz4V"
      },
      "source": [
        "### Problem 2\n",
        "Handle the exception thrown by the code below by using <code>try</code> and <code>except</code> blocks. Then use a <code>finally</code> block to print 'All Done.'"
      ]
    },
    {
      "cell_type": "code",
      "execution_count": 4,
      "metadata": {
        "colab": {
          "base_uri": "https://localhost:8080/"
        },
        "id": "T_JSINJOTz4W",
        "outputId": "38ee222f-e4d4-4a51-de75-2ea143a348db"
      },
      "outputs": [
        {
          "output_type": "stream",
          "name": "stdout",
          "text": [
            "there is error\n",
            "denominoator should not be zero\n"
          ]
        }
      ],
      "source": [
        "x = 5\n",
        "y = 0\n",
        "try:\n",
        "  z = x/y\n",
        "except:\n",
        "  print(\"there is error\")\n",
        "finally :\n",
        "  print(\"denominoator should not be zero\")"
      ]
    },
    {
      "cell_type": "markdown",
      "metadata": {
        "id": "hgyZg1JfTz4W"
      },
      "source": [
        "### Problem 3\n",
        "Write a function that asks for an integer and prints the square of it. Use a <code>while</code> loop with a <code>try</code>, <code>except</code>, <code>else</code> block to account for incorrect inputs."
      ]
    },
    {
      "cell_type": "code",
      "execution_count": 10,
      "metadata": {
        "collapsed": true,
        "id": "c9ug4H_TTz4X"
      },
      "outputs": [],
      "source": [
        "def ask():\n",
        "  while True:\n",
        "      try:\n",
        "        a=int(input(\"enter  any ineger number\"))\n",
        "        b=a**2\n",
        "      except:\n",
        "        print(\"an error occured!\")\n",
        "      else:\n",
        "        print(f\"the number is squared {b}\")\n",
        "        break\n"
      ]
    },
    {
      "cell_type": "code",
      "execution_count": 11,
      "metadata": {
        "colab": {
          "base_uri": "https://localhost:8080/"
        },
        "id": "GEG-kmK4Tz4X",
        "outputId": "9fe6e78e-bb41-4ac3-c4e7-532fec3bfca2"
      },
      "outputs": [
        {
          "output_type": "stream",
          "name": "stdout",
          "text": [
            "enter  any ineger numberr\n",
            "an error occured!\n",
            "enter  any ineger number2\n",
            "the number is squared 4\n"
          ]
        }
      ],
      "source": [
        "ask()"
      ]
    },
    {
      "cell_type": "markdown",
      "metadata": {
        "id": "kQ85lQBmTz4Y"
      },
      "source": [
        "# Great Job!"
      ]
    }
  ],
  "metadata": {
    "kernelspec": {
      "display_name": "Python 3",
      "language": "python",
      "name": "python3"
    },
    "language_info": {
      "codemirror_mode": {
        "name": "ipython",
        "version": 3
      },
      "file_extension": ".py",
      "mimetype": "text/x-python",
      "name": "python",
      "nbconvert_exporter": "python",
      "pygments_lexer": "ipython3",
      "version": "3.6.6"
    },
    "colab": {
      "provenance": [],
      "include_colab_link": true
    }
  },
  "nbformat": 4,
  "nbformat_minor": 0
}