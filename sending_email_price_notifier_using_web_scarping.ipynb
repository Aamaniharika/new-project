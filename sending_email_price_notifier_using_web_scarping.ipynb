{
  "nbformat": 4,
  "nbformat_minor": 0,
  "metadata": {
    "colab": {
      "provenance": [],
      "authorship_tag": "ABX9TyOppjSIYOQcDwSfxtP0G+KU",
      "include_colab_link": true
    },
    "kernelspec": {
      "name": "python3",
      "display_name": "Python 3"
    },
    "language_info": {
      "name": "python"
    }
  },
  "cells": [
    {
      "cell_type": "markdown",
      "metadata": {
        "id": "view-in-github",
        "colab_type": "text"
      },
      "source": [
        "<a href=\"https://colab.research.google.com/github/Aamaniharika/new-project/blob/main/sending_email_price_notifier_using_web_scarping.ipynb\" target=\"_parent\"><img src=\"https://colab.research.google.com/assets/colab-badge.svg\" alt=\"Open In Colab\"/></a>"
      ]
    },
    {
      "cell_type": "code",
      "execution_count": 24,
      "metadata": {
        "id": "Py_xjL99UyWB"
      },
      "outputs": [],
      "source": [
        "import bs4,lxml,requests"
      ]
    },
    {
      "cell_type": "code",
      "source": [
        "import smtplib"
      ],
      "metadata": {
        "id": "NPJtjqgocOTJ"
      },
      "execution_count": 25,
      "outputs": []
    },
    {
      "cell_type": "code",
      "source": [
        "url='http://books.toscrape.com/catalogue/category/books_1/index.html'"
      ],
      "metadata": {
        "id": "5bCyDkk2ZOXt"
      },
      "execution_count": 2,
      "outputs": []
    },
    {
      "cell_type": "code",
      "source": [
        "web_req=requests.get(url)"
      ],
      "metadata": {
        "id": "JCHarKGuZTbr"
      },
      "execution_count": 3,
      "outputs": []
    },
    {
      "cell_type": "code",
      "source": [
        "web_req"
      ],
      "metadata": {
        "colab": {
          "base_uri": "https://localhost:8080/"
        },
        "id": "gY1qV7PwZb5F",
        "outputId": "08283ec1-661e-4499-83b1-be5aa200a5ff"
      },
      "execution_count": 4,
      "outputs": [
        {
          "output_type": "execute_result",
          "data": {
            "text/plain": [
              "<Response [200]>"
            ]
          },
          "metadata": {},
          "execution_count": 4
        }
      ]
    },
    {
      "cell_type": "code",
      "source": [
        "soup=bs4.BeautifulSoup(web_req.content,'lxml')"
      ],
      "metadata": {
        "id": "wUXqAwkpZeHU"
      },
      "execution_count": 6,
      "outputs": []
    },
    {
      "cell_type": "code",
      "source": [
        "prices=soup.select('.price_color')"
      ],
      "metadata": {
        "id": "EWzzafw1Zxh_"
      },
      "execution_count": 11,
      "outputs": []
    },
    {
      "cell_type": "code",
      "source": [
        "list_of_prices=[]\n",
        "for price in prices:\n",
        "  list_of_prices.append(float(price.text[1:]))"
      ],
      "metadata": {
        "id": "ukDRQ2m8aabM"
      },
      "execution_count": 21,
      "outputs": []
    },
    {
      "cell_type": "code",
      "source": [
        "list_of_prices"
      ],
      "metadata": {
        "colab": {
          "base_uri": "https://localhost:8080/"
        },
        "id": "JqCln2SZbQzb",
        "outputId": "8f21d836-acef-46e1-9d6b-dcd56aeff8a1"
      },
      "execution_count": 22,
      "outputs": [
        {
          "output_type": "execute_result",
          "data": {
            "text/plain": [
              "[51.77,\n",
              " 53.74,\n",
              " 50.1,\n",
              " 47.82,\n",
              " 54.23,\n",
              " 22.65,\n",
              " 33.34,\n",
              " 17.93,\n",
              " 22.6,\n",
              " 52.15,\n",
              " 13.99,\n",
              " 20.66,\n",
              " 17.46,\n",
              " 52.29,\n",
              " 35.02,\n",
              " 57.25,\n",
              " 23.88,\n",
              " 37.59,\n",
              " 51.33,\n",
              " 45.17]"
            ]
          },
          "metadata": {},
          "execution_count": 22
        }
      ]
    },
    {
      "cell_type": "code",
      "source": [
        "smtp_object = smtplib.SMTP('smtp.gmail.com',587)"
      ],
      "metadata": {
        "id": "K3eGxYhbbUnh"
      },
      "execution_count": 26,
      "outputs": []
    },
    {
      "cell_type": "code",
      "source": [
        "smtp_object.ehlo()\n",
        "smtp_object.starttls()"
      ],
      "metadata": {
        "colab": {
          "base_uri": "https://localhost:8080/"
        },
        "id": "MjVx5waNcxp1",
        "outputId": "90b4da0b-ca8a-452d-e9af-b490ebb63c67"
      },
      "execution_count": 28,
      "outputs": [
        {
          "output_type": "execute_result",
          "data": {
            "text/plain": [
              "(220, b'2.0.0 Ready to start TLS')"
            ]
          },
          "metadata": {},
          "execution_count": 28
        }
      ]
    },
    {
      "cell_type": "code",
      "source": [
        "smtp_object.login('aamani344@gmail.com','yozxbemvfaqcgear')"
      ],
      "metadata": {
        "colab": {
          "base_uri": "https://localhost:8080/"
        },
        "id": "IS3OJgs3dLTu",
        "outputId": "f339132a-1cdc-4511-b199-cac276123f83"
      },
      "execution_count": 31,
      "outputs": [
        {
          "output_type": "execute_result",
          "data": {
            "text/plain": [
              "(235, b'2.7.0 Accepted')"
            ]
          },
          "metadata": {},
          "execution_count": 31
        }
      ]
    },
    {
      "cell_type": "code",
      "source": [
        "smtp_object.sendmail('aamani344@gmail.com','aamani344@gmail.com',\"Subject: price notifier \\n \\n\" +f\" hi price has dropped to{list_of_prices[0]}\")"
      ],
      "metadata": {
        "colab": {
          "base_uri": "https://localhost:8080/"
        },
        "id": "0MhXc9ePeiDk",
        "outputId": "1e9acbfc-c78b-405e-91d0-b01cf33b204c"
      },
      "execution_count": 41,
      "outputs": [
        {
          "output_type": "execute_result",
          "data": {
            "text/plain": [
              "{}"
            ]
          },
          "metadata": {},
          "execution_count": 41
        }
      ]
    },
    {
      "cell_type": "code",
      "source": [
        "subject = input(\"Enter the subject line: \")\n",
        "message = input(\"Type out the message you want to send: \")\n",
        "msg = \"Subject: \" + subject + '\\n' + message\n",
        "smtp_object.sendmail('aamani344@gmail.com','aamani344@gmail.com',msg)"
      ],
      "metadata": {
        "colab": {
          "base_uri": "https://localhost:8080/"
        },
        "id": "BXF0XUXegCgh",
        "outputId": "87b978a4-9424-417c-9b9b-857a4e9a29f8"
      },
      "execution_count": 36,
      "outputs": [
        {
          "name": "stdout",
          "output_type": "stream",
          "text": [
            "Enter the subject line: hey there is price drop\n",
            "Type out the message you want to send: the dropped price is as below\n"
          ]
        },
        {
          "output_type": "execute_result",
          "data": {
            "text/plain": [
              "{}"
            ]
          },
          "metadata": {},
          "execution_count": 36
        }
      ]
    }
  ]
}