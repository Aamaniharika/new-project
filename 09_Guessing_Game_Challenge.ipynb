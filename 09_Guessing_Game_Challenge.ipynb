{
  "cells": [
    {
      "cell_type": "markdown",
      "metadata": {
        "id": "view-in-github",
        "colab_type": "text"
      },
      "source": [
        "<a href=\"https://colab.research.google.com/github/Aamaniharika/new-project/blob/main/09_Guessing_Game_Challenge.ipynb\" target=\"_parent\"><img src=\"https://colab.research.google.com/assets/colab-badge.svg\" alt=\"Open In Colab\"/></a>"
      ]
    },
    {
      "cell_type": "markdown",
      "metadata": {
        "id": "15H01FptFwG8"
      },
      "source": [
        "___\n",
        "\n",
        "<a href='https://www.udemy.com/user/joseportilla/'><img src='../Pierian_Data_Logo.png'/></a>\n",
        "___\n",
        "<center><em>Content Copyright by Pierian Data</em></center>"
      ]
    },
    {
      "cell_type": "markdown",
      "metadata": {
        "id": "TqYdg1X_FwHQ"
      },
      "source": [
        "# Guessing Game Challenge\n",
        "\n",
        "Let's use `while` loops to create a guessing game.\n",
        "\n",
        "The Challenge:\n",
        "\n",
        "Write a program that picks a random integer from 1 to 100, and has players guess the number. The rules are:\n",
        "\n",
        "1. If a player's guess is less than 1 or greater than 100, say \"OUT OF BOUNDS\"\n",
        "2. On a player's first turn, if their guess is\n",
        " * within 10 of the number, return \"WARM!\"\n",
        " * further than 10 away from the number, return \"COLD!\"\n",
        "3. On all subsequent turns, if a guess is \n",
        " * closer to the number than the previous guess return \"WARMER!\"\n",
        " * farther from the number than the previous guess, return \"COLDER!\"\n",
        "4. When the player's guess equals the number, tell them they've guessed correctly *and* how many guesses it took!\n",
        "\n",
        "You can try this from scratch, or follow the steps outlined below. A separate Solution notebook has been provided. Good luck!\n"
      ]
    },
    {
      "cell_type": "markdown",
      "metadata": {
        "id": "bjiHVm5BFwHV"
      },
      "source": [
        "#### First, pick a random integer from 1 to 100 using the random module and assign it to a variable\n",
        "\n",
        "Note: `random.randint(a,b)` returns a random integer in range `[a, b]`, including both end points."
      ]
    },
    {
      "cell_type": "code",
      "execution_count": 12,
      "metadata": {
        "collapsed": true,
        "colab": {
          "base_uri": "https://localhost:8080/"
        },
        "id": "W-gHbMu1FwHY",
        "outputId": "1f84869c-b48e-4a35-963c-96f89b5b27fc"
      },
      "outputs": [
        {
          "output_type": "execute_result",
          "data": {
            "text/plain": [
              "15"
            ]
          },
          "metadata": {},
          "execution_count": 12
        }
      ],
      "source": [
        "import numpy as np\n",
        "num=np.random.randint(1,100)\n",
        "num"
      ]
    },
    {
      "cell_type": "markdown",
      "metadata": {
        "id": "E9o3LHf7FwHf"
      },
      "source": [
        "#### Next, print an introduction to the game and explain the rules"
      ]
    },
    {
      "cell_type": "code",
      "execution_count": 6,
      "metadata": {
        "collapsed": true,
        "colab": {
          "base_uri": "https://localhost:8080/"
        },
        "id": "pvwpMI9uFwHh",
        "outputId": "b966d23f-1f2c-4f74-9f27-d3c165d1c663"
      },
      "outputs": [
        {
          "output_type": "stream",
          "name": "stdout",
          "text": [
            "WELCOME TO GUESS ME!\n",
            "I'm thinking of a number between 1 and 100\n",
            "If your guess is more than 10 away from my number, I'll tell you you're COLD\n",
            "If your guess is within 10 of my number, I'll tell you you're WARM\n",
            "If your guess is farther than your most recent guess, I'll say you're getting COLDER\n",
            "If your guess is closer than your most recent guess, I'll say you're getting WARMER\n",
            "LET'S PLAY!\n"
          ]
        }
      ],
      "source": [
        "print(\"WELCOME TO GUESS ME!\")\n",
        "print(\"I'm thinking of a number between 1 and 100\")\n",
        "print(\"If your guess is more than 10 away from my number, I'll tell you you're COLD\")\n",
        "print(\"If your guess is within 10 of my number, I'll tell you you're WARM\")\n",
        "print(\"If your guess is farther than your most recent guess, I'll say you're getting COLDER\")\n",
        "print(\"If your guess is closer than your most recent guess, I'll say you're getting WARMER\")\n",
        "print(\"LET'S PLAY!\")"
      ]
    },
    {
      "cell_type": "markdown",
      "metadata": {
        "id": "2KVJgwLRFwHj"
      },
      "source": [
        "#### Create a list to store guesses\n",
        "\n",
        "Hint: zero is a good placeholder value. It's useful because it evaluates to \"False\""
      ]
    },
    {
      "cell_type": "code",
      "execution_count": 14,
      "metadata": {
        "collapsed": true,
        "id": "Zqe6k83SFwHm"
      },
      "outputs": [],
      "source": [
        "guesses=[0]\n"
      ]
    },
    {
      "cell_type": "markdown",
      "metadata": {
        "id": "5cmxMcxhFwHo"
      },
      "source": [
        "#### Write a `while` loop that asks for a valid guess. Test it a few times to make sure it works."
      ]
    },
    {
      "cell_type": "code",
      "execution_count": 15,
      "metadata": {
        "collapsed": true,
        "colab": {
          "base_uri": "https://localhost:8080/"
        },
        "id": "xykubJxCFwHu",
        "outputId": "bc549d4e-eac6-410a-8eb6-3d508a9cc25c"
      },
      "outputs": [
        {
          "name": "stdout",
          "output_type": "stream",
          "text": [
            "I'm thinking of a number between 1 and 100.\n",
            "  What is your guess? 2\n"
          ]
        }
      ],
      "source": [
        "while True:\n",
        "    \n",
        "    guess = int(input(\"I'm thinking of a number between 1 and 100.\\n  What is your guess? \"))\n",
        "    \n",
        "    if guess < 1 or guess > 100:\n",
        "        print('OUT OF BOUNDS! Please try again: ')\n",
        "        continue\n",
        "        \n",
        "    break"
      ]
    },
    {
      "cell_type": "markdown",
      "metadata": {
        "id": "OUVfmUpXFwH0"
      },
      "source": [
        "#### Write a `while` loop that compares the player's guess to our number. If the player guesses correctly, break from the loop. Otherwise, tell the player if they're warmer or colder, and continue asking for guesses.\n",
        "\n",
        "Some hints:\n",
        "* it may help to sketch out all possible combinations on paper first!\n",
        "* you can use the `abs()` function to find the positive difference between two numbers\n",
        "* if you append all new guesses to the list, then the previous guess is given as `guesses[-2]`"
      ]
    },
    {
      "cell_type": "code",
      "execution_count": 16,
      "metadata": {
        "collapsed": true,
        "colab": {
          "base_uri": "https://localhost:8080/",
          "height": 1000
        },
        "id": "UguXRPZvFwH6",
        "outputId": "cb7285b4-a7bb-471f-bf83-886fdcdcca3a"
      },
      "outputs": [
        {
          "output_type": "stream",
          "name": "stdout",
          "text": [
            "I'm thinking of a number between 1 and 100.\n",
            "  What is your guess? 3\n",
            "COLD!\n",
            "I'm thinking of a number between 1 and 100.\n",
            "  What is your guess? 3\n",
            "COLDER!\n",
            "I'm thinking of a number between 1 and 100.\n",
            "  What is your guess? 45\n",
            "COLDER!\n",
            "I'm thinking of a number between 1 and 100.\n",
            "  What is your guess? 34\n",
            "WARMER!\n",
            "I'm thinking of a number between 1 and 100.\n",
            "  What is your guess? 64\n",
            "COLDER!\n",
            "I'm thinking of a number between 1 and 100.\n",
            "  What is your guess? 34\n",
            "WARMER!\n",
            "I'm thinking of a number between 1 and 100.\n",
            "  What is your guess? 23\n",
            "WARMER!\n",
            "I'm thinking of a number between 1 and 100.\n",
            "  What is your guess? 67\n",
            "COLDER!\n",
            "I'm thinking of a number between 1 and 100.\n",
            "  What is your guess? 45\n",
            "WARMER!\n",
            "I'm thinking of a number between 1 and 100.\n",
            "  What is your guess? 90\n",
            "COLDER!\n",
            "I'm thinking of a number between 1 and 100.\n",
            "  What is your guess? 34\n",
            "WARMER!\n",
            "I'm thinking of a number between 1 and 100.\n",
            "  What is your guess? 2\n",
            "WARMER!\n",
            "I'm thinking of a number between 1 and 100.\n",
            "  What is your guess? 5\n",
            "WARMER!\n",
            "I'm thinking of a number between 1 and 100.\n",
            "  What is your guess? 8\n",
            "WARMER!\n",
            "I'm thinking of a number between 1 and 100.\n",
            "  What is your guess? 4\n",
            "COLDER!\n",
            "I'm thinking of a number between 1 and 100.\n",
            "  What is your guess? 1\n",
            "COLDER!\n",
            "I'm thinking of a number between 1 and 100.\n",
            "  What is your guess? 2\n",
            "WARMER!\n",
            "I'm thinking of a number between 1 and 100.\n",
            "  What is your guess? 3\n",
            "WARMER!\n",
            "I'm thinking of a number between 1 and 100.\n",
            "  What is your guess? 4\n",
            "WARMER!\n",
            "I'm thinking of a number between 1 and 100.\n",
            "  What is your guess? 5\n",
            "WARMER!\n",
            "I'm thinking of a number between 1 and 100.\n",
            "  What is your guess? 5\n",
            "COLDER!\n",
            "I'm thinking of a number between 1 and 100.\n",
            "  What is your guess? 8\n",
            "WARMER!\n"
          ]
        },
        {
          "output_type": "error",
          "ename": "KeyboardInterrupt",
          "evalue": "ignored",
          "traceback": [
            "\u001b[0;31m---------------------------------------------------------------------------\u001b[0m",
            "\u001b[0;31mKeyboardInterrupt\u001b[0m                         Traceback (most recent call last)",
            "\u001b[0;32m<ipython-input-16-92297c747694>\u001b[0m in \u001b[0;36m<module>\u001b[0;34m\u001b[0m\n\u001b[1;32m      2\u001b[0m \u001b[0;34m\u001b[0m\u001b[0m\n\u001b[1;32m      3\u001b[0m     \u001b[0;31m# we can copy the code from above to take an input\u001b[0m\u001b[0;34m\u001b[0m\u001b[0;34m\u001b[0m\u001b[0;34m\u001b[0m\u001b[0m\n\u001b[0;32m----> 4\u001b[0;31m     \u001b[0mguess\u001b[0m \u001b[0;34m=\u001b[0m \u001b[0mint\u001b[0m\u001b[0;34m(\u001b[0m\u001b[0minput\u001b[0m\u001b[0;34m(\u001b[0m\u001b[0;34m\"I'm thinking of a number between 1 and 100.\\n  What is your guess? \"\u001b[0m\u001b[0;34m)\u001b[0m\u001b[0;34m)\u001b[0m\u001b[0;34m\u001b[0m\u001b[0;34m\u001b[0m\u001b[0m\n\u001b[0m\u001b[1;32m      5\u001b[0m \u001b[0;34m\u001b[0m\u001b[0m\n\u001b[1;32m      6\u001b[0m     \u001b[0;32mif\u001b[0m \u001b[0mguess\u001b[0m \u001b[0;34m<\u001b[0m \u001b[0;36m1\u001b[0m \u001b[0;32mor\u001b[0m \u001b[0mguess\u001b[0m \u001b[0;34m>\u001b[0m \u001b[0;36m100\u001b[0m\u001b[0;34m:\u001b[0m\u001b[0;34m\u001b[0m\u001b[0;34m\u001b[0m\u001b[0m\n",
            "\u001b[0;32m/usr/local/lib/python3.8/dist-packages/ipykernel/kernelbase.py\u001b[0m in \u001b[0;36mraw_input\u001b[0;34m(self, prompt)\u001b[0m\n\u001b[1;32m    858\u001b[0m                 \u001b[0;34m\"raw_input was called, but this frontend does not support input requests.\"\u001b[0m\u001b[0;34m\u001b[0m\u001b[0;34m\u001b[0m\u001b[0m\n\u001b[1;32m    859\u001b[0m             )\n\u001b[0;32m--> 860\u001b[0;31m         return self._input_request(str(prompt),\n\u001b[0m\u001b[1;32m    861\u001b[0m             \u001b[0mself\u001b[0m\u001b[0;34m.\u001b[0m\u001b[0m_parent_ident\u001b[0m\u001b[0;34m,\u001b[0m\u001b[0;34m\u001b[0m\u001b[0;34m\u001b[0m\u001b[0m\n\u001b[1;32m    862\u001b[0m             \u001b[0mself\u001b[0m\u001b[0;34m.\u001b[0m\u001b[0m_parent_header\u001b[0m\u001b[0;34m,\u001b[0m\u001b[0;34m\u001b[0m\u001b[0;34m\u001b[0m\u001b[0m\n",
            "\u001b[0;32m/usr/local/lib/python3.8/dist-packages/ipykernel/kernelbase.py\u001b[0m in \u001b[0;36m_input_request\u001b[0;34m(self, prompt, ident, parent, password)\u001b[0m\n\u001b[1;32m    902\u001b[0m             \u001b[0;32mexcept\u001b[0m \u001b[0mKeyboardInterrupt\u001b[0m\u001b[0;34m:\u001b[0m\u001b[0;34m\u001b[0m\u001b[0;34m\u001b[0m\u001b[0m\n\u001b[1;32m    903\u001b[0m                 \u001b[0;31m# re-raise KeyboardInterrupt, to truncate traceback\u001b[0m\u001b[0;34m\u001b[0m\u001b[0;34m\u001b[0m\u001b[0;34m\u001b[0m\u001b[0m\n\u001b[0;32m--> 904\u001b[0;31m                 \u001b[0;32mraise\u001b[0m \u001b[0mKeyboardInterrupt\u001b[0m\u001b[0;34m(\u001b[0m\u001b[0;34m\"Interrupted by user\"\u001b[0m\u001b[0;34m)\u001b[0m \u001b[0;32mfrom\u001b[0m \u001b[0;32mNone\u001b[0m\u001b[0;34m\u001b[0m\u001b[0;34m\u001b[0m\u001b[0m\n\u001b[0m\u001b[1;32m    905\u001b[0m             \u001b[0;32mexcept\u001b[0m \u001b[0mException\u001b[0m \u001b[0;32mas\u001b[0m \u001b[0me\u001b[0m\u001b[0;34m:\u001b[0m\u001b[0;34m\u001b[0m\u001b[0;34m\u001b[0m\u001b[0m\n\u001b[1;32m    906\u001b[0m                 \u001b[0mself\u001b[0m\u001b[0;34m.\u001b[0m\u001b[0mlog\u001b[0m\u001b[0;34m.\u001b[0m\u001b[0mwarning\u001b[0m\u001b[0;34m(\u001b[0m\u001b[0;34m\"Invalid Message:\"\u001b[0m\u001b[0;34m,\u001b[0m \u001b[0mexc_info\u001b[0m\u001b[0;34m=\u001b[0m\u001b[0;32mTrue\u001b[0m\u001b[0;34m)\u001b[0m\u001b[0;34m\u001b[0m\u001b[0;34m\u001b[0m\u001b[0m\n",
            "\u001b[0;31mKeyboardInterrupt\u001b[0m: Interrupted by user"
          ]
        }
      ],
      "source": [
        "while True:\n",
        "\n",
        "    # we can copy the code from above to take an input\n",
        "    guess = int(input(\"I'm thinking of a number between 1 and 100.\\n  What is your guess? \"))\n",
        "    \n",
        "    if guess < 1 or guess > 100:\n",
        "        print('OUT OF BOUNDS! Please try again: ')\n",
        "        continue\n",
        "    \n",
        "    # here we compare the player's guess to our number\n",
        "    if guess == num:\n",
        "        print(f'CONGRATULATIONS, YOU GUESSED IT IN ONLY {len(guesses)} GUESSES!!')\n",
        "        break\n",
        "        \n",
        "    # if guess is incorrect, add guess to the list\n",
        "    guesses.append(guess)\n",
        "    \n",
        "    # when testing the first guess, guesses[-2]==0, which evaluates to False\n",
        "    # and brings us down to the second section\n",
        "    \n",
        "    if guesses[-2]:  \n",
        "        if abs(num-guess) < abs(num-guesses[-2]):\n",
        "            print('WARMER!')\n",
        "        else:\n",
        "            print('COLDER!')\n",
        "   \n",
        "    else:\n",
        "        if abs(num-guess) <= 10:\n",
        "            print('WARM!')\n",
        "        else:\n",
        "            print('COLD!')\n",
        "    "
      ]
    },
    {
      "cell_type": "markdown",
      "metadata": {
        "id": "FuSzw5u_FwID"
      },
      "source": [
        "That's it! You've just programmed your first game!\n",
        "\n",
        "In the next section we'll learn how to turn some of these repetitive actions into *functions* that can be called whenever we need them."
      ]
    },
    {
      "cell_type": "markdown",
      "metadata": {
        "id": "jhIw9qUrFwIH"
      },
      "source": [
        "### Good Job!"
      ]
    }
  ],
  "metadata": {
    "kernelspec": {
      "display_name": "Python 3",
      "language": "python",
      "name": "python3"
    },
    "language_info": {
      "codemirror_mode": {
        "name": "ipython",
        "version": 3
      },
      "file_extension": ".py",
      "mimetype": "text/x-python",
      "name": "python",
      "nbconvert_exporter": "python",
      "pygments_lexer": "ipython3",
      "version": "3.6.6"
    },
    "colab": {
      "provenance": [],
      "include_colab_link": true
    }
  },
  "nbformat": 4,
  "nbformat_minor": 0
}